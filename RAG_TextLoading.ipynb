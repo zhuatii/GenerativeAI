{
 "cells": [
  {
   "cell_type": "code",
   "execution_count": 1,
   "id": "521cf6cd-6f8d-4172-b860-8a78b2cc6c62",
   "metadata": {
    "scrolled": true
   },
   "outputs": [],
   "source": [
    "import os\n",
    "# import openai\n",
    "from langchain.llms import HuggingFaceHub\n",
    "import sys\n",
    "import numpy as np\n",
    "\n",
    "# from dotenv import load_dotenv, find_dotenv\n",
    "# _ = load_dotenv(find_dotenv())\n",
    "hf_key = os.environ['HUGGING_FACE_API_KEY']\n",
    "# openai.api_key  = os.environ['OPENAI_API_KEY']"
   ]
  },
  {
   "cell_type": "markdown",
   "id": "dc114c39-654d-4d3d-baea-1651ba1737c9",
   "metadata": {},
   "source": [
    "### Importing LangChain packages"
   ]
  },
  {
   "cell_type": "code",
   "execution_count": 3,
   "id": "899fbd72-170b-4f33-bad4-9eb2859c863a",
   "metadata": {},
   "outputs": [],
   "source": [
    "from langchain.document_loaders import PyPDFLoader\n",
    "from langchain.text_splitter import RecursiveCharacterTextSplitter, CharacterTextSplitter\n",
    "from langchain_huggingface.embeddings import HuggingFaceEmbeddings"
   ]
  },
  {
   "cell_type": "markdown",
   "id": "dbc19795-0b68-4e8a-bce8-e53c78efac30",
   "metadata": {},
   "source": [
    "## Loading Data"
   ]
  },
  {
   "cell_type": "code",
   "execution_count": 12,
   "id": "2a9ec042-f388-46df-8800-80d3e6c21608",
   "metadata": {},
   "outputs": [],
   "source": [
    "pdfFilePath = \"D:\\\\eBook-How-to-Build-a-Career-in-AI.pdf\""
   ]
  },
  {
   "cell_type": "code",
   "execution_count": 14,
   "id": "87d18b21-6b44-4383-9c69-575ae5308719",
   "metadata": {},
   "outputs": [],
   "source": [
    "### Loading the book\n",
    "\n",
    "loader = PyPDFLoader(pdfFilePath)\n",
    "pages = loader.load()"
   ]
  },
  {
   "cell_type": "code",
   "execution_count": 16,
   "id": "6e97bb3a-f8c9-4637-b80d-c1ac3659ba5b",
   "metadata": {},
   "outputs": [
    {
     "name": "stdout",
     "output_type": "stream",
     "text": [
      "41\n"
     ]
    }
   ],
   "source": [
    "print(len(pages))"
   ]
  },
  {
   "cell_type": "code",
   "execution_count": 20,
   "id": "2eb8a34f-41a7-4873-8555-49c30ed780b2",
   "metadata": {},
   "outputs": [],
   "source": [
    "page = pages[3]\n",
    "text = page.page_content"
   ]
  },
  {
   "cell_type": "code",
   "execution_count": 22,
   "id": "8ae536c6-860e-4bc5-b994-4ac33d33c570",
   "metadata": {},
   "outputs": [
    {
     "name": "stdout",
     "output_type": "stream",
     "text": [
      "2445\n",
      "{'source': 'D:\\\\eBook-How-to-Build-a-Career-in-AI.pdf', 'page': 3}\n"
     ]
    }
   ],
   "source": [
    "### Number of characters in the text loaded\n",
    "print(len(text))\n",
    "\n",
    "### Meta data of the text loaded\n",
    "print(page.metadata)"
   ]
  },
  {
   "cell_type": "code",
   "execution_count": 24,
   "id": "1fab2387-2b53-46d7-9b18-27ec62bf026e",
   "metadata": {},
   "outputs": [
    {
     "name": "stdout",
     "output_type": "stream",
     "text": [
      "page_content='PAGE 4Coding AI Is the New Literacy\n",
      "Today we take it for granted that many people know how to read and write. Someday, I hope, \n",
      "it will be just as common that people know how to write code, specifically for AI.\n",
      "Several hundred years ago, society didn’t view language literacy as a necessary skill. A small \n",
      "number of people learned to read and write, and everyone else let them do the reading and \n",
      "writing. It took centuries for literacy to spread, and now society is far richer for it.\n",
      "Words enable deep human-to-human communication. Code is the deepest form of human-to-\n",
      "machine communication. As machines become more central to daily life, that communication \n",
      "becomes ever more important.\n",
      "Traditional software engineering — writing programs that explicitly tell a computer sequences \n",
      "of steps to execute — has been the main path to code literacy. Many introductory programming \n",
      "classes use creating a video game or building a website as examples. But AI, machine learning, \n",
      "and data science offer a new paradigm in which computers extract knowledge from data. This \n",
      "technology offers an even better pathway to coding.\n",
      "Many Sundays, I buy a slice of pizza from my neighborhood pizza parlor. The gentleman \n",
      "behind the counter has little reason to learn how to build a video game or write his own \n",
      "website software (beyond personal growth and the pleasure of gaining a new skill).\n",
      "But AI and data science have great value even for a pizza maker. A linear regression model might \n",
      "enable him to better estimate demand so he can optimize the restaurant’s staffing and supply \n",
      "chain. He could better predict sales of Hawaiian pizza — my favorite! — so he could make more \n",
      "Hawaiian pies in advance and reduce the amount of time customers had to wait for them.\n",
      "Uses of AI and data science can be found in almost any situation that produces data.  Thus, \n",
      "a wide variety of professions will find more uses for custom AI applications and data-derived \n",
      "insights than for traditional software engineering. This makes literacy in AI-oriented coding \n",
      "even more valuable than traditional coding. It could enable countless individuals to harness \n",
      "data to make their lives richer.\n",
      "I hope the promise of building basic AI applications, even more than that of building basic \n",
      "traditional software, encourages more people to learn how to code. If society embraces this \n",
      "new form of literacy as it has the ability to read and write, we will all benefit.Introduction' metadata={'source': 'D:\\\\eBook-How-to-Build-a-Career-in-AI.pdf', 'page': 3}\n"
     ]
    }
   ],
   "source": [
    "print(page)"
   ]
  },
  {
   "cell_type": "markdown",
   "id": "da59fb4e-031d-41b2-a6fa-e68bba12db62",
   "metadata": {},
   "source": [
    "### Splitting the text optimally"
   ]
  },
  {
   "cell_type": "code",
   "execution_count": 26,
   "id": "bd787dfb-a0d8-483c-ac3f-55fbde44df99",
   "metadata": {},
   "outputs": [
    {
     "name": "stdout",
     "output_type": "stream",
     "text": [
      "25\n",
      "['PAGE 4Coding AI Is the New Literacy\\nToday we take it for granted that many people know how to read and write. Someday, I hope,', 'it will be just as common that people know how to write code, specifically for AI.', 'Several hundred years ago, society didn’t view language literacy as a necessary skill. A small', 'number of people learned to read and write, and everyone else let them do the reading and', 'writing. It took centuries for literacy to spread, and now society is far richer for it.', 'Words enable deep human-to-human communication. Code is the deepest form of human-to-', 'machine communication. As machines become more central to daily life, that communication \\nbecomes ever more important.', 'Traditional software engineering — writing programs that explicitly tell a computer sequences', 'of steps to execute — has been the main path to code literacy. Many introductory programming', 'classes use creating a video game or building a website as examples. But AI, machine learning,', 'and data science offer a new paradigm in which computers extract knowledge from data. This \\ntechnology offers an even better pathway to coding.', 'Many Sundays, I buy a slice of pizza from my neighborhood pizza parlor. The gentleman', 'behind the counter has little reason to learn how to build a video game or write his own', 'website software (beyond personal growth and the pleasure of gaining a new skill).', 'But AI and data science have great value even for a pizza maker. A linear regression model might', 'enable him to better estimate demand so he can optimize the restaurant’s staffing and supply', 'chain. He could better predict sales of Hawaiian pizza — my favorite! — so he could make more', 'Hawaiian pies in advance and reduce the amount of time customers had to wait for them.', 'Uses of AI and data science can be found in almost any situation that produces data.  Thus,', 'a wide variety of professions will find more uses for custom AI applications and data-derived', 'insights than for traditional software engineering. This makes literacy in AI-oriented coding', 'even more valuable than traditional coding. It could enable countless individuals to harness \\ndata to make their lives richer.', 'I hope the promise of building basic AI applications, even more than that of building basic', 'traditional software, encourages more people to learn how to code. If society embraces this', 'new form of literacy as it has the ability to read and write, we will all benefit.Introduction']\n"
     ]
    }
   ],
   "source": [
    "### Initialising the text splitters\n",
    "\n",
    "r_splitter = RecursiveCharacterTextSplitter(\n",
    "    chunk_size=150,\n",
    "    chunk_overlap=0,\n",
    "    separators=[\"\\n\\n\", \"\\n\", \"(?<=. )\", \" \", \"\"]\n",
    ")\n",
    "\n",
    "Rsplit = r_splitter.split_text(text)\n",
    "print(len(Rsplit))\n",
    "print(Rsplit)"
   ]
  },
  {
   "cell_type": "code",
   "execution_count": 28,
   "id": "6f9539f9-5354-4005-91da-263aff014c6a",
   "metadata": {},
   "outputs": [
    {
     "name": "stdout",
     "output_type": "stream",
     "text": [
      "3\n",
      "['PAGE 4Coding AI Is the New Literacy\\nToday we take it for granted that many people know how to read and write. Someday, I hope, \\nit will be just as common that people know how to write code, specifically for AI.\\nSeveral hundred years ago, society didn’t view language literacy as a necessary skill. A small \\nnumber of people learned to read and write, and everyone else let them do the reading and \\nwriting. It took centuries for literacy to spread, and now society is far richer for it.\\nWords enable deep human-to-human communication. Code is the deepest form of human-to-\\nmachine communication. As machines become more central to daily life, that communication \\nbecomes ever more important.\\nTraditional software engineering — writing programs that explicitly tell a computer sequences \\nof steps to execute — has been the main path to code literacy. Many introductory programming \\nclasses use creating a video game or building a website as examples. But AI, machine learning,', 'classes use creating a video game or building a website as examples. But AI, machine learning, \\nand data science offer a new paradigm in which computers extract knowledge from data. This \\ntechnology offers an even better pathway to coding.\\nMany Sundays, I buy a slice of pizza from my neighborhood pizza parlor. The gentleman \\nbehind the counter has little reason to learn how to build a video game or write his own \\nwebsite software (beyond personal growth and the pleasure of gaining a new skill).\\nBut AI and data science have great value even for a pizza maker. A linear regression model might \\nenable him to better estimate demand so he can optimize the restaurant’s staffing and supply \\nchain. He could better predict sales of Hawaiian pizza — my favorite! — so he could make more \\nHawaiian pies in advance and reduce the amount of time customers had to wait for them.\\nUses of AI and data science can be found in almost any situation that produces data.  Thus,', 'Uses of AI and data science can be found in almost any situation that produces data.  Thus, \\na wide variety of professions will find more uses for custom AI applications and data-derived \\ninsights than for traditional software engineering. This makes literacy in AI-oriented coding \\neven more valuable than traditional coding. It could enable countless individuals to harness \\ndata to make their lives richer.\\nI hope the promise of building basic AI applications, even more than that of building basic \\ntraditional software, encourages more people to learn how to code. If society embraces this \\nnew form of literacy as it has the ability to read and write, we will all benefit.Introduction']\n"
     ]
    }
   ],
   "source": [
    "text_splitter = CharacterTextSplitter(\n",
    "    chunk_size=1000,\n",
    "    chunk_overlap=150,\n",
    "    separator = \"\\n\"\n",
    ")\n",
    "\n",
    "Tsplit = text_splitter.split_text(text)\n",
    "print(len(Tsplit))\n",
    "print(Tsplit)"
   ]
  },
  {
   "cell_type": "code",
   "execution_count": 30,
   "id": "9262a381-af04-49de-a96c-153252ea0d0d",
   "metadata": {},
   "outputs": [],
   "source": [
    "docs = text_splitter.split_documents(pages)"
   ]
  },
  {
   "cell_type": "code",
   "execution_count": 32,
   "id": "8ae4699c-2621-4774-b0f0-2a322921f76c",
   "metadata": {},
   "outputs": [
    {
     "name": "stdout",
     "output_type": "stream",
     "text": [
      "80 41\n"
     ]
    }
   ],
   "source": [
    "print(len(docs), len(pages))"
   ]
  },
  {
   "cell_type": "code",
   "execution_count": 34,
   "id": "fd3375ac-6e9d-4430-8bf3-7ad4e117dc82",
   "metadata": {},
   "outputs": [
    {
     "name": "stdout",
     "output_type": "stream",
     "text": [
      "PAGE 3Table of \n",
      "ContentsIntroduction: Coding AI is the New Literacy.\n",
      "Chapter 1: Three Steps to Career Growth.\n",
      "Chapter 2: Learning Technical Skills for a \n",
      "Promising AI Career.\n",
      "Chapter 3: Should You Learn Math to Get a Job \n",
      "in AI?\n",
      "Chapter 4: Scoping Successful AI Projects.\n",
      "Chapter 5: Finding Projects that Complement \n",
      "Your Career Goals.\n",
      "Chapter 6: Building a Portfolio of Projects that \n",
      "Shows Skill Progression.\n",
      "Chapter 7: A Simple Framework for Starting Your AI \n",
      "Job Search.\n",
      "Chapter 8: Using Informational Interviews to Find \n",
      "the Right Job.\n",
      "Chapter 9: Finding the Right AI Job for You.\n",
      "Chapter 10: Keys to Building a Career in AI.\n",
      "Chapter 11: Overcoming Imposter Syndrome.\n",
      "Final Thoughts: Make Every Day Count.LEARNING\n",
      "PROJECTS\n",
      "JOB\n"
     ]
    }
   ],
   "source": [
    "print(docs[2].page_content)  #### Each line is a split made"
   ]
  },
  {
   "cell_type": "markdown",
   "id": "012f43bc-a33a-40a9-90d9-af9375ca1d64",
   "metadata": {},
   "source": [
    "## Vector Database and Text Embeddings"
   ]
  },
  {
   "cell_type": "code",
   "execution_count": 42,
   "id": "3657568d-a74f-40d7-9f4f-ea9883cf48f8",
   "metadata": {},
   "outputs": [],
   "source": [
    "model_name = \"mixedbread-ai/mxbai-embed-large-v1\"\n",
    "embedding = HuggingFaceEmbeddings(\n",
    "    model_name=model_name,\n",
    "    encode_kwargs={\"normalize_embeddings\": True},\n",
    ")"
   ]
  },
  {
   "cell_type": "code",
   "execution_count": 44,
   "id": "cfd98531-bd7c-4586-b093-84be2ae3839a",
   "metadata": {},
   "outputs": [
    {
     "name": "stdout",
     "output_type": "stream",
     "text": [
      "it will be just as common that people know how to write code, specifically for AI.\n",
      "number of people learned to read and write, and everyone else let them do the reading and\n",
      "Words enable deep human-to-human communication. Code is the deepest form of human-to-\n"
     ]
    }
   ],
   "source": [
    "### Testing the enbedding and similarity scores\n",
    "\n",
    "sentence1 = Rsplit[1]\n",
    "sentence2 = Rsplit[3]\n",
    "sentence3 = Rsplit[5]\n",
    "\n",
    "print(sentence1)\n",
    "print(sentence2)\n",
    "print(sentence3)"
   ]
  },
  {
   "cell_type": "code",
   "execution_count": 46,
   "id": "a87c91bf-3292-49fc-a42a-0fae71f9a687",
   "metadata": {
    "scrolled": true
   },
   "outputs": [],
   "source": [
    "embedding1 = embedding.embed_query(sentence1)\n",
    "embedding2 = embedding.embed_query(sentence2)\n",
    "embedding3 = embedding.embed_query(sentence3)"
   ]
  },
  {
   "cell_type": "code",
   "execution_count": 48,
   "id": "95b2494b-55b3-43ad-a610-55b642a48c1f",
   "metadata": {},
   "outputs": [
    {
     "data": {
      "text/plain": [
       "(0.5538325901583627, 0.5539500231029587, 0.6178851590517445)"
      ]
     },
     "execution_count": 48,
     "metadata": {},
     "output_type": "execute_result"
    }
   ],
   "source": [
    "np.dot(embedding1, embedding2), np.dot(embedding2, embedding3), np.dot(embedding3, embedding1)"
   ]
  }
 ],
 "metadata": {
  "kernelspec": {
   "display_name": "Python 3 (ipykernel)",
   "language": "python",
   "name": "python3"
  },
  "language_info": {
   "codemirror_mode": {
    "name": "ipython",
    "version": 3
   },
   "file_extension": ".py",
   "mimetype": "text/x-python",
   "name": "python",
   "nbconvert_exporter": "python",
   "pygments_lexer": "ipython3",
   "version": "3.12.3"
  }
 },
 "nbformat": 4,
 "nbformat_minor": 5
}
